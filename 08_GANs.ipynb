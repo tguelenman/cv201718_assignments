{
 "cells": [
  {
   "cell_type": "markdown",
   "metadata": {},
   "source": [
    "# Übung 8: Generative adversarial networks\n",
    "\n",
    "Generative adversarial networks (GANs) lernen implizit ein generatives Modell von einer gegebenen Datendistribution. Dies geschieht durch ein Nullsummenspiel zwischen zwei neuronalen Netzwerken: Ein Generatornetzwerk versucht eine Funktion zu lernen, die Zufallsdaten aus einer einfachen parametrischen Verteilung in Bilder überführt, die von dem zweiten Netzwerk, dem Diskriminator, nicht von echten Bildern zu unterscheiden sind. Der Diskriminator ist ein Classifier, der darauf trainiert wird, echte Bilder von solchen zu unterscheiden, die der Generator generiert.\n",
    "\n",
    "In dieser Übung sollst du ein GAN für den MNIST Datensatz implementieren."
   ]
  },
  {
   "cell_type": "markdown",
   "metadata": {},
   "source": [
    "## MNIST\n",
    "\n",
    "Laden den MNIST Datensatz und plotte ein paar der Datenpunkte als Bilder. Du kannst das Keras modul ```keras.datasets``` benutzen, um die Daten automatisch herunterzuladen und einzulesen."
   ]
  },
  {
   "cell_type": "code",
   "execution_count": null,
   "metadata": {},
   "outputs": [],
   "source": [
    "print(\"+++++++++++++++++++++++++++++++++++++++++++++++++++++++++++++++++++++++++++++++++++++++++++++++++++++++++++++++++++++++++++++++\")\n",
    "print(\"Hi Tim, vorrangig aus GPU-Gründen haben wir die Jan(n)is-Gruppe bei dieser Übung mit ins Boot geholt.\")\n",
    "print(\"+++++++++++++++++++++++++++++++++++++++++++++++++++++++++++++++++++++++++++++++++++++++++++++++++++++++++++++++++++++++++++++++\")"
   ]
  },
  {
   "cell_type": "code",
   "execution_count": 86,
   "metadata": {},
   "outputs": [
    {
     "data": {
      "text/plain": [
       "<matplotlib.image.AxesImage at 0x63b081d0>"
      ]
     },
     "execution_count": 86,
     "metadata": {},
     "output_type": "execute_result"
    },
    {
     "data": {
      "image/png": "[encoded data removed]",
      "text/plain": [
       "<Figure size 432x288 with 1 Axes>"
      ]
     },
     "metadata": {},
     "output_type": "display_data"
    }
   ],
   "source": [
    "%matplotlib inline \n",
    "from keras.datasets import mnist\n",
    "import matplotlib.pyplot as plt\n",
    "\n",
    "(X_train, _), (_, _) = mnist.load_data()\n",
    "\n",
    "plt.imshow(X_train[0], cmap=plt.cm.gray)"
   ]
  },
  {
   "cell_type": "code",
   "execution_count": 72,
   "metadata": {},
   "outputs": [
    {
     "data": {
      "text/plain": [
       "<matplotlib.image.AxesImage at 0x22610940>"
      ]
     },
     "execution_count": 72,
     "metadata": {},
     "output_type": "execute_result"
    },
    {
     "data": {
      "image/png": "[encoded data removed]",
      "text/plain": [
       "<Figure size 432x288 with 1 Axes>"
      ]
     },
     "metadata": {},
     "output_type": "display_data"
    }
   ],
   "source": [
    "plt.imshow(X_train[1], cmap=plt.cm.gray)"
   ]
  },
  {
   "cell_type": "code",
   "execution_count": 73,
   "metadata": {},
   "outputs": [
    {
     "data": {
      "text/plain": [
       "<matplotlib.image.AxesImage at 0x22637240>"
      ]
     },
     "execution_count": 73,
     "metadata": {},
     "output_type": "execute_result"
    },
    {
     "data": {
      "image/png": "[encoded data removed]",
      "text/plain": [
       "<Figure size 432x288 with 1 Axes>"
      ]
     },
     "metadata": {},
     "output_type": "display_data"
    }
   ],
   "source": [
    "plt.imshow(X_train[2], cmap=plt.cm.gray)"
   ]
  },
  {
   "cell_type": "code",
   "execution_count": 74,
   "metadata": {},
   "outputs": [
    {
     "data": {
      "text/plain": [
       "<matplotlib.image.AxesImage at 0x2265bb00>"
      ]
     },
     "execution_count": 74,
     "metadata": {},
     "output_type": "execute_result"
    },
    {
     "data": {
      "image/png": "[encoded data removed]",
      "text/plain": [
       "<Figure size 432x288 with 1 Axes>"
      ]
     },
     "metadata": {},
     "output_type": "display_data"
    }
   ],
   "source": [
    "plt.imshow(X_train[3], cmap=plt.cm.gray)"
   ]
  },
  {
   "cell_type": "markdown",
   "metadata": {},
   "source": [
    "## Generator\n",
    "\n",
    "Erstelle nun zuerst ein Model, welches aus einem Tensor mit den Dimensionen ```[batch_size, z_dim]``` einen Tensor mit den Dimensionen ```[batch_size, 28, 28, 1]``` generiert. ```28x28``` ist hierbei die Bildgröße der MNIST Daten, die Größe des Noisevektors (```z_dim```) kannst du selbst wählen. \n",
    "\n",
    "Sample nun eine Batch von Zufallswerten, z.b. aus einer Normalverteilung, und erstelle mit dem untrainierten Generator ein Batch von Bildern. Plotte diese generierten Bilder."
   ]
  },
  {
   "cell_type": "code",
   "execution_count": 75,
   "metadata": {},
   "outputs": [],
   "source": [
    "%matplotlib inline\n",
    "\n",
    "from keras.datasets import mnist\n",
    "from keras.layers import Input, Dense, Reshape, Flatten, Dropout\n",
    "from keras.layers import BatchNormalization, Activation, ZeroPadding2D\n",
    "from keras.layers.advanced_activations import LeakyReLU\n",
    "from keras.layers.convolutional import UpSampling2D, Conv2D, Conv2DTranspose\n",
    "from keras.models import Sequential, Model\n",
    "from keras.optimizers import Adam\n",
    "import matplotlib.pyplot as plt\n",
    "import numpy as np"
   ]
  },
  {
   "cell_type": "code",
   "execution_count": 76,
   "metadata": {},
   "outputs": [],
   "source": [
    "def plot_imgs(generator):\n",
    "    r, c = 5, 5\n",
    "    noise = np.random.normal(0, 1, (r * c, z_dim))\n",
    "    gen_imgs = generator.predict(noise)\n",
    "\n",
    "    # Rescale images 0 - 1\n",
    "    gen_imgs = 0.5 * gen_imgs + 0.5\n",
    "\n",
    "    fig, axs = plt.subplots(r, c)\n",
    "    cnt = 0\n",
    "    for i in range(r):\n",
    "        for j in range(c):\n",
    "            axs[i,j].imshow(gen_imgs[cnt, :,:,0], cmap='gray')\n",
    "            axs[i,j].axis('off')\n",
    "            cnt += 1\n",
    "    plt.show()"
   ]
  },
  {
   "cell_type": "code",
   "execution_count": 77,
   "metadata": {},
   "outputs": [],
   "source": [
    "z_dim = 32\n",
    "batch_size = 64\n",
    "img_rows = 28\n",
    "img_cols = 28\n",
    "channels = 1\n",
    "prob_drop_conv = 0.4\n",
    "kernel_size = (5,5)\n",
    "depth = 128"
   ]
  },
  {
   "cell_type": "code",
   "execution_count": 78,
   "metadata": {},
   "outputs": [],
   "source": [
    "noise_shape = (z_dim,)\n",
    "        \n",
    "model = Sequential()\n",
    "\n",
    "model.add(Dense(depth * 7 * 7, activation=\"relu\", input_shape=noise_shape))\n",
    "model.add(Reshape((7, 7, depth)))\n",
    "model.add(BatchNormalization(momentum=0.8))\n",
    "model.add(Dropout(prob_drop_conv))\n",
    "model.add(UpSampling2D())\n",
    "\n",
    "# ... add layers\n",
    "model.add(Conv2DTranspose(int(depth/2), kernel_size, strides=(1, 1), padding='same', activation='relu'))\n",
    "model.add(BatchNormalization(momentum=0.8))\n",
    "model.add(UpSampling2D())\n",
    "\n",
    "model.add(Conv2DTranspose(int(depth/4), kernel_size, strides=(1, 1), padding='same', activation='relu'))\n",
    "model.add(BatchNormalization(momentum=0.8))\n",
    "\n",
    "model.add(Conv2DTranspose(int(depth/8), kernel_size, strides=(1, 1), padding='same', activation='relu'))\n",
    "model.add(BatchNormalization(momentum=0.8))\n",
    "\n",
    "model.add(Conv2DTranspose(1, kernel_size, strides=(1, 1), padding='same', activation='tanh'))\n",
    "\n",
    "noise = Input(shape=noise_shape)\n",
    "img = model(noise)\n",
    "\n",
    "generator = Model(noise, img)"
   ]
  },
  {
   "cell_type": "code",
   "execution_count": 79,
   "metadata": {},
   "outputs": [],
   "source": [
    "noise = np.random.normal(0, 1, (batch_size, z_dim))"
   ]
  },
  {
   "cell_type": "code",
   "execution_count": 80,
   "metadata": {},
   "outputs": [
    {
     "data": {
      "image/png": "[encoded data removed]",
      "text/plain": [
       "<Figure size 432x288 with 25 Axes>"
      ]
     },
     "metadata": {},
     "output_type": "display_data"
    }
   ],
   "source": [
    "plot_imgs(generator)"
   ]
  },
  {
   "cell_type": "markdown",
   "metadata": {},
   "source": [
    "## Discriminator\n",
    "\n",
    "Erstelle nun ein Klassifizierungsnetzwerk, welchen mit dem Ausgabetensor des Generatornetzes (```[batch_size, 28, 28, 1]```) als Eingabe akzeptiert. Überprüfe, ob das Netzwerk die Ausgaben des Generators in Wahrscheinlichkeiten, also Werte zwischen 0 und 1, überführt."
   ]
  },
  {
   "cell_type": "code",
   "execution_count": 81,
   "metadata": {},
   "outputs": [],
   "source": [
    "img_shape = (img_rows, img_cols, channels)\n",
    "        \n",
    "model = Sequential()\n",
    "\n",
    "model.add(Conv2D(32, kernel_size=3, strides=2, input_shape=img_shape, padding=\"same\"))\n",
    "model.add(LeakyReLU(alpha=0.2))\n",
    "model.add(Dropout(0.25))\n",
    "\n",
    "#... add more layers\n",
    "model.add(Flatten())\n",
    "\n",
    "model.add(Dense(256))\n",
    "model.add(LeakyReLU(alpha=0.2))\n",
    "model.add(Dense(128))\n",
    "model.add(LeakyReLU(alpha=0.2))\n",
    "\n",
    "model.add(Dense(1, activation='sigmoid'))\n",
    "\n",
    "img = Input(shape=img_shape)\n",
    "validity = model(img)\n",
    "\n",
    "discriminator = Model(img, validity)"
   ]
  },
  {
   "cell_type": "code",
   "execution_count": 82,
   "metadata": {},
   "outputs": [],
   "source": [
    "from keras.optimizers import RMSprop\n",
    "\n",
    "opt = RMSprop(lr=0.0004, rho=0.9)\n",
    "\n",
    "generator.compile(optimizer=opt, loss='binary_crossentropy')\n",
    "discriminator.compile(optimizer=opt, loss='binary_crossentropy', metrics=['accuracy'])\n",
    "\n",
    "z = Input(shape=(32,))\n",
    "img = generator(z)\n",
    "discriminator.trainable = False\n",
    "valid = discriminator(img)\n",
    "\n",
    "combined = Model(z, valid)\n",
    "combined.compile(loss='binary_crossentropy', optimizer=opt, metrics=['accuracy'])"
   ]
  },
  {
   "cell_type": "code",
   "execution_count": 83,
   "metadata": {
    "scrolled": true
   },
   "outputs": [
    {
     "data": {
      "text/plain": [
       "array([[0.5023096 ],\n",
       "       [0.50130105],\n",
       "       [0.5009636 ],\n",
       "       [0.5013481 ],\n",
       "       [0.50271386],\n",
       "       [0.50278443],\n",
       "       [0.50149876],\n",
       "       [0.5017336 ],\n",
       "       [0.5027462 ],\n",
       "       [0.5010684 ],\n",
       "       [0.5012734 ],\n",
       "       [0.50253564],\n",
       "       [0.5014028 ],\n",
       "       [0.5008106 ],\n",
       "       [0.5016778 ],\n",
       "       [0.5028935 ],\n",
       "       [0.5026577 ],\n",
       "       [0.5009108 ],\n",
       "       [0.50075334],\n",
       "       [0.5041284 ],\n",
       "       [0.5007585 ],\n",
       "       [0.50096977],\n",
       "       [0.50075036],\n",
       "       [0.50272113],\n",
       "       [0.5023826 ],\n",
       "       [0.5026194 ],\n",
       "       [0.50320345],\n",
       "       [0.50281197],\n",
       "       [0.50248796],\n",
       "       [0.5026295 ],\n",
       "       [0.5024416 ],\n",
       "       [0.5015958 ],\n",
       "       [0.50318635],\n",
       "       [0.5015381 ],\n",
       "       [0.5034651 ],\n",
       "       [0.50115216],\n",
       "       [0.5010571 ],\n",
       "       [0.5026848 ],\n",
       "       [0.50110346],\n",
       "       [0.5023901 ],\n",
       "       [0.50477976],\n",
       "       [0.5018815 ],\n",
       "       [0.501703  ],\n",
       "       [0.50251144],\n",
       "       [0.50074977],\n",
       "       [0.5012235 ],\n",
       "       [0.5025503 ],\n",
       "       [0.5021099 ],\n",
       "       [0.50361377],\n",
       "       [0.50114954],\n",
       "       [0.5032367 ],\n",
       "       [0.50307965],\n",
       "       [0.50300825],\n",
       "       [0.50219667],\n",
       "       [0.5012024 ],\n",
       "       [0.5018292 ],\n",
       "       [0.5006225 ],\n",
       "       [0.502727  ],\n",
       "       [0.5020967 ],\n",
       "       [0.5021177 ],\n",
       "       [0.5015102 ],\n",
       "       [0.50169843],\n",
       "       [0.5028855 ],\n",
       "       [0.50145406]], dtype=float32)"
      ]
     },
     "execution_count": 83,
     "metadata": {},
     "output_type": "execute_result"
    }
   ],
   "source": [
    "discriminator.predict(generator.predict(noise))"
   ]
  },
  {
   "cell_type": "markdown",
   "metadata": {},
   "source": [
    "## Training\n",
    "Implementiere das Training des GANs wie in der Vorlesung besprochen. Gebe während des Trainings den Generator-Loss und den Discriminator-Loss aus. Am Ende des Trainings zeige einige vom Generator generierte Bilder (**RESULT**)."
   ]
  },
  {
   "cell_type": "code",
   "execution_count": 87,
   "metadata": {},
   "outputs": [],
   "source": [
    "X_train = (X_train.astype(np.float32) - 127.5) / 127.5\n",
    "X_train = np.expand_dims(X_train, axis=3)"
   ]
  },
  {
   "cell_type": "code",
   "execution_count": 88,
   "metadata": {
    "scrolled": false
   },
   "outputs": [
    {
     "name": "stderr",
     "output_type": "stream",
     "text": [
      "c:\\users\\t\\anaconda3\\envs\\tensorflow\\lib\\site-packages\\keras\\engine\\training.py:973: UserWarning: Discrepancy between trainable weights and collected trainable weights, did you set `model.trainable` without calling `model.compile` after ?\n",
      "  'Discrepancy between trainable weights and collected trainable'\n"
     ]
    }
   ],
   "source": [
    "\n",
    "#Erstelle batch_size/2 Indizes von echten Bildern:\n",
    "random_indices = np.random.randint(0, X_train.shape[0], int(batch_size/2))\n",
    "images = X_train[random_indices]\n",
    "    \n",
    "#Generiere batch_size/2 'falsche' Bilder:\n",
    "noise = np.random.normal(0, 1, (int(batch_size/2), 32))\n",
    "gen_images = generator.predict(noise)\n",
    "#concat_imgs = np.concatenate((images, gen_images))\n",
    "\n",
    "#Diskriminator trainieren\n",
    "d_loss_real = discriminator.train_on_batch(images, np.ones([int(batch_size/2), 1]))\n",
    "d_loss_fake = discriminator.train_on_batch(gen_images, np.zeros([int(batch_size/2), 1]))\n",
    "d_loss = 0.5*np.add(d_loss_fake, d_loss_real)"
   ]
  },
  {
   "cell_type": "code",
   "execution_count": 117,
   "metadata": {},
   "outputs": [
    {
     "name": "stdout",
     "output_type": "stream",
     "text": [
      "Hi Tim, wir haben es (vermutlich) geschafft, das Ganze für einen Durchgang auszuführen, wissen aber nicht, wie genau wir das jetzt in eine Schleife packen sollten. Unten die Ergebnisse des einzigen Durchlaufs:\n",
      "10  Diskr.:  0.40935606 , Genauigkeit: 50.0 , Komb.:  [0.019711673, 1.0]\n"
     ]
    }
   ],
   "source": [
    "#So, und jetzt trainieren wir den Generator\n",
    "epoch= 10\n",
    "\n",
    "noise = np.random.normal(0, 1, (batch_size, 32))\n",
    "valid_y = np.array([1]*batch_size)\n",
    "c_loss = combined.train_on_batch(noise, valid_y)\n",
    "\n",
    "print(\"Hi Tim, wir haben es (vermutlich) geschafft, das Ganze für einen Durchgang auszuführen, wissen aber nicht, wie genau wir das jetzt in eine Schleife packen sollten. Unten die Ergebnisse des einzigen Durchlaufs:\")\n",
    "\n",
    "print(epoch,\" Diskr.: \",d_loss[0],\", Genauigkeit:\",100*d_loss[1],\", Komb.: \",c_loss)"
   ]
  },
  {
   "cell_type": "code",
   "execution_count": null,
   "metadata": {},
   "outputs": [],
   "source": []
  }
 ],
 "metadata": {
  "kernelspec": {
   "display_name": "Python 3",
   "language": "python",
   "name": "python3"
  },
  "language_info": {
   "codemirror_mode": {
    "name": "ipython",
    "version": 3
   },
   "file_extension": ".py",
   "mimetype": "text/x-python",
   "name": "python",
   "nbconvert_exporter": "python",
   "pygments_lexer": "ipython3",
   "version": "3.5.5"
  }
 },
 "nbformat": 4,
 "nbformat_minor": 2
}
